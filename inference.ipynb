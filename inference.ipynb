{
 "cells": [
  {
   "cell_type": "code",
   "execution_count": 1,
   "id": "e6de3d12-cbd9-401f-b20a-7f5619ec58da",
   "metadata": {},
   "outputs": [
    {
     "name": "stderr",
     "output_type": "stream",
     "text": [
      "/drive0-storage/aryaduta_ta/my-env/lib/python3.10/site-packages/tqdm/auto.py:21: TqdmWarning: IProgress not found. Please update jupyter and ipywidgets. See https://ipywidgets.readthedocs.io/en/stable/user_install.html\n",
      "  from .autonotebook import tqdm as notebook_tqdm\n",
      "WARNING[XFORMERS]: xFormers can't load C++/CUDA extensions. xFormers was built for:\n",
      "    PyTorch 2.3.0+cu121 with CUDA 1201 (you have 2.2.1+cu121)\n",
      "    Python  3.10.14 (you have 3.10.12)\n",
      "  Please reinstall xformers (see https://github.com/facebookresearch/xformers#installing-xformers)\n",
      "  Memory-efficient attention, SwiGLU, sparse and more won't be available.\n",
      "  Set XFORMERS_MORE_DETAILS=1 for more details\n"
     ]
    }
   ],
   "source": [
    "from unsloth import FastLanguageModel\n",
    "import torch\n",
    "from trl import SFTTrainer\n",
    "from transformers import TrainingArguments\n",
    "from datasets import load_dataset\n",
    "max_seq_length = 2048 # Supports RoPE Scaling interally, so choose any!"
   ]
  },
  {
   "cell_type": "code",
   "execution_count": 2,
   "id": "0a3c53ed-5421-4f51-bfe1-41181d90b236",
   "metadata": {},
   "outputs": [],
   "source": [
    "alpaca_prompt = \"\"\"Di bawah ini adalah instruksi yang menggambarkan sebuah tugas dengan input yang memberikan konteks lebih lanjut. Tuliskan respons yang tepat untuk menyelesaikan permintaan tersebut.\n",
    "\n",
    "### Instruksi:\n",
    "{}\n",
    "\n",
    "### Input:\n",
    "{}\n",
    "\n",
    "### Response:\n",
    "{}\"\"\""
   ]
  },
  {
   "cell_type": "code",
   "execution_count": 3,
   "id": "d521d2f3-4704-449b-9257-97bddb324a1d",
   "metadata": {},
   "outputs": [
    {
     "name": "stderr",
     "output_type": "stream",
     "text": [
      "/drive0-storage/aryaduta_ta/my-env/lib/python3.10/site-packages/huggingface_hub/file_download.py:1132: FutureWarning: `resume_download` is deprecated and will be removed in version 1.0.0. Downloads always resume when possible. If you want to force a new download, use `force_download=True`.\n",
      "  warnings.warn(\n"
     ]
    },
    {
     "name": "stdout",
     "output_type": "stream",
     "text": [
      "==((====))==  Unsloth: Fast Gemma patching release 2024.4\n",
      "   \\\\   /|    GPU: NVIDIA A100-SXM4-40GB MIG 7g.40gb. Max memory: 39.392 GB. Platform = Linux.\n",
      "O^O/ \\_/ \\    Pytorch: 2.2.1+cu121. CUDA = 8.0. CUDA Toolkit = 12.1.\n",
      "\\        /    Bfloat16 = TRUE. Xformers = 0.0.26.post1. FA = True.\n",
      " \"-____-\"     Free Apache license: http://github.com/unslothai/unsloth\n"
     ]
    },
    {
     "name": "stderr",
     "output_type": "stream",
     "text": [
      "Unused kwargs: ['_load_in_4bit', '_load_in_8bit', 'quant_method']. These kwargs are not used in <class 'transformers.utils.quantization_config.BitsAndBytesConfig'>.\n",
      "Gemma's activation function should be approximate GeLU and not exact GeLU.\n",
      "Changing the activation function to `gelu_pytorch_tanh`.if you want to use the legacy `gelu`, edit the `model.config` to set `hidden_activation=gelu`   instead of `hidden_act`. See https://github.com/huggingface/transformers/pull/29402 for more details.\n",
      "Unsloth 2024.4 patched 18 layers with 18 QKV layers, 18 O layers and 18 MLP layers.\n"
     ]
    }
   ],
   "source": [
    "model, tokenizer = FastLanguageModel.from_pretrained(\n",
    "    model_name = \"Aryaduta/modellora9\",\n",
    "    max_seq_length = max_seq_length,\n",
    "    dtype = None,\n",
    ")\n"
   ]
  },
  {
   "cell_type": "code",
   "execution_count": 4,
   "id": "53dedf68-98a5-432a-94cd-194e4d365001",
   "metadata": {},
   "outputs": [],
   "source": [
    "full_instruction = \"\"\"\n",
    "Objektif: Tugas anda adalah menghasilkan urutan respons JSON untuk merencanakan tindakan lengan robot berdasarkan input pengguna. Jika tujuan tidak dapat dicapai dengan menggunakan instruksi yang disediakan dan objek yang tersedia, kembalikan pesan kesalahan.\n",
    "    \n",
    "Berikan objek JSON yang mengandung array \"actions\", diidentifikasi dengan key \"actions\".\n",
    "    \n",
    "Setiap aksi harus direpresentasikan sebagai objek dengan \"command\" dan \"parameters\" yang sesuai\n",
    "    \n",
    "Objek dan Koordinat yang Tersedia:\n",
    "{object_context}\n",
    "    \n",
    "Perintah yang Tersedia:\n",
    "1. move: Gerakkan lengan robot ke arah tertentu. Sertakan parameter \"direction\" dengan nilai \"atas\", \"bawah\", \"depan\", \"belakang\", \"kiri\", atau \"kanan\".\n",
    "2. move_to: Gerakkan lengan robot ke koordinat tertentu. Sertakan parameter \"x\", \"y\", dan \"z\" untuk menentukan koordinat tujuan.\n",
    "3. suction_cup: Aktifkan atau nonaktifkan cup hisap. Gunakan parameter \"action\" dengan nilai \"on\" atau \"off\".\n",
    "5. err_msg: Kembalikan pesan kesalahan jika tujuan pengguna tidak dapat tercapai dengan menggunakan objek dan perintah saat ini. Gunakan parameter \"msg\" dengan nilai \"tidak dapat membuat rencana aksi dengan kondisi terkini\".\n",
    "    \n",
    "Contoh Penggunaan Perintah:\n",
    "{{\"actions\":[{{\"command\":\"move\",\"parameters\":{{\"direction\":\"up\"}}}},{{\"command\":\"move_to\",\"parameters\":{{\"x\":-265.56,\"y\":196.34,\"z\":-50}}}},{{\"command\":\"suction_cup\",\"parameters\":{{\"action\":\"on\"}}}},{{\"command\":\"err_msg\",\"parameters\":{{\"msg\":\"tidak dapat membuat rencana aksi dengan kondisi terkini\"}}}}]}}\n",
    "    \n",
    "Instruksi Penggunaan:\n",
    "1. Untuk memindahkan objek yang tersedia ke koordinat tertentu, aktifkan penyedot terlebih dahulu menggunakan perintah \"suction_cup\" dengan \"action\" diatur ke \"on\", kemudian gerakkan ke koordinat objek menggunakan perintah \"move_to\".\n",
    "2. Berikan koordinat penempatan untuk tujuan pengguna menggunakan perintah \"move_to\" sesuai dengan koordinat yang diberikan pengguna atau koordinat objek yang disediakan. Jangan lupa untuk menambahkan tanda negati\n",
    "3. Untuk melepaskan objek setelah menggunakan penyedot, nonaktifkan penyedot terlebih dahulu menggunakan perintah \"suction_cup\" dengan \"action\" diatur ke \"off\".\n",
    "4. Untuk memindahkan robot secara lateral (misalnya, ke kiri atau kanan), gunakan perintah \"move\" dengan arah yang sesuai.\n",
    "5. Untuk gerakan lateral objek (kiri atau kanan), pertama-tama gerakkan lengan robot ke koordinat objek menggunakan perintah \"move_to\", kemudian gunakan perintah \"move\" dengan arah yang sesuai.\n",
    "6. Jika tujuan pengguna tidak dapat tercapai dengan perintah dan objek saat ini, gunakan perintah \"err_msg\".\n",
    "\"\"\"\n",
    "\n",
    "def inferrence(input_context, object_context):\n",
    "    # Enable native 2x faster inference\n",
    "    FastLanguageModel.for_inference(model)\n",
    "\n",
    "    full_instruction2 = full_instruction.format(object_context=object_context)\n",
    "\n",
    "    \n",
    "    # Prepare inputs\n",
    "    inputs = tokenizer(\n",
    "        [\n",
    "            alpaca_prompt.format(\n",
    "                full_instruction2,\n",
    "            input_context,  # input\n",
    "            \"\",  # output - leave this blank for generation!\n",
    "        )\n",
    "        ],\n",
    "        return_tensors=\"pt\"\n",
    "    ).to(\"cuda\")\n",
    "    \n",
    "    # Generate outputs\n",
    "    outputs = model.generate(**inputs, max_new_tokens=1024, use_cache=True)\n",
    "    \n",
    "    # Decode output and extract JSON response\n",
    "    decoded_output = tokenizer.batch_decode(outputs)[0]\n",
    "    \n",
    "    # Find the start and end indices for the JSON response\n",
    "    start_marker = \"### Response:\"\n",
    "    end_marker = \"<eos>\"\n",
    "    start_index = decoded_output.find(start_marker) + len(start_marker)\n",
    "    end_index = decoded_output.find(end_marker, start_index)\n",
    "    \n",
    "    # Extract the JSON response\n",
    "    json_response = decoded_output[start_index:end_index].strip()\n",
    "    \n",
    "    # Print the JSON response\n",
    "    print(json_response)\n",
    "\n",
    "    # return the JSON response\n",
    "    return json_response\n"
   ]
  },
  {
   "cell_type": "code",
   "execution_count": 5,
   "id": "e43ed56f-bbb2-4e4b-8f5f-4d0993996235",
   "metadata": {},
   "outputs": [
    {
     "name": "stdout",
     "output_type": "stream",
     "text": [
      " * ngrok tunnel \"https://05c0-103-94-190-27.ngrok-free.app\" -> \"http://127.0.0.1:5000/\"\n",
      " * Serving Flask app '__main__'\n",
      " * Debug mode: off\n"
     ]
    },
    {
     "name": "stderr",
     "output_type": "stream",
     "text": [
      "\u001b[31m\u001b[1mWARNING: This is a development server. Do not use it in a production deployment. Use a production WSGI server instead.\u001b[0m\n",
      " * Running on http://127.0.0.1:5000\n",
      "\u001b[33mPress CTRL+C to quit\u001b[0m\n",
      "127.0.0.1 - - [06/Jul/2024 18:48:59] \"GET / HTTP/1.1\" 200 -\n",
      "127.0.0.1 - - [06/Jul/2024 18:48:59] \"\u001b[33mGET /favicon.ico HTTP/1.1\u001b[0m\" 404 -\n",
      "127.0.0.1 - - [06/Jul/2024 18:49:12] \"GET /api HTTP/1.1\" 200 -\n"
     ]
    },
    {
     "name": "stdout",
     "output_type": "stream",
     "text": [
      "{\"actions\": [{\"command\": \"move_to\", \"parameters\": {\"x\": 12, \"y\": 13, \"z\": 15}}, {\"command\": \"suction_cup\", \"parameters\": {\"action\": \"on\"}}, {\"command\": \"move\", \"parameters\": {\"direction\": \"depan\"}}, {\"command\": \"suction_cup\", \"parameters\": {\"action\": \"off\"}}]}\n"
     ]
    },
    {
     "name": "stderr",
     "output_type": "stream",
     "text": [
      "127.0.0.1 - - [06/Jul/2024 18:51:31] \"GET /api HTTP/1.1\" 200 -\n"
     ]
    },
    {
     "name": "stdout",
     "output_type": "stream",
     "text": [
      "{\"actions\": [{\"command\": \"err_msg\", \"parameters\": {\"msg\": \"tidak dapat membuat rencana aksi dengan kondisi terkini\"}}]}\n"
     ]
    },
    {
     "name": "stderr",
     "output_type": "stream",
     "text": [
      "127.0.0.1 - - [06/Jul/2024 18:51:43] \"GET /api HTTP/1.1\" 200 -\n"
     ]
    },
    {
     "name": "stdout",
     "output_type": "stream",
     "text": [
      "{\"actions\": [{\"command\": \"move_to\", \"parameters\": {\"x\": 110, \"y\": 31.2, \"z\": -18.6}}, {\"command\": \"suction_cup\", \"parameters\": {\"action\": \"on\"}}, {\"command\": \"move\", \"parameters\": {\"direction\": \"depan\"}}, {\"command\": \"suction_cup\", \"parameters\": {\"action\": \"off\"}}]}\n"
     ]
    },
    {
     "name": "stderr",
     "output_type": "stream",
     "text": [
      "127.0.0.1 - - [06/Jul/2024 19:03:45] \"GET / HTTP/1.1\" 200 -\n",
      "127.0.0.1 - - [06/Jul/2024 21:45:42] \"GET / HTTP/1.1\" 200 -\n",
      "127.0.0.1 - - [06/Jul/2024 21:47:02] \"GET /api HTTP/1.1\" 200 -\n"
     ]
    },
    {
     "name": "stdout",
     "output_type": "stream",
     "text": [
      "{\"actions\": [{\"command\": \"move_to\", \"parameters\": {\"x\": 110, \"y\": 31.2, \"z\": -18.6}}, {\"command\": \"suction_cup\", \"parameters\": {\"action\": \"on\"}}, {\"command\": \"move_to\", \"parameters\": {\"x\": 23, \"y\": -12.98, \"z\": 88}}, {\"command\": \"move\", \"parameters\": {\"direction\": \"depan\"}}, {\"command\": \"suction_cup\", \"parameters\": {\"action\": \"off\"}}]}\n"
     ]
    },
    {
     "name": "stderr",
     "output_type": "stream",
     "text": [
      "127.0.0.1 - - [06/Jul/2024 23:47:01] \"GET /api HTTP/1.1\" 200 -\n"
     ]
    },
    {
     "name": "stdout",
     "output_type": "stream",
     "text": [
      "{\"actions\": [{\"command\": \"move_to\", \"parameters\": {\"x\": 308, \"y\": 172, \"z\": -50}}, {\"command\": \"suction_cup\", \"parameters\": {\"action\": \"on\"}}, {\"command\": \"move_to\", \"parameters\": {\"x\": 284, \"y\": 266, \"z\": -50}}, {\"command\": \"move\", \"parameters\": {\"direction\": \"depan\"}}, {\"command\": \"suction_cup\", \"parameters\": {\"action\": \"off\"}}]}\n"
     ]
    },
    {
     "name": "stderr",
     "output_type": "stream",
     "text": [
      "127.0.0.1 - - [07/Jul/2024 00:18:14] \"\u001b[31m\u001b[1mPOST /api HTTP/1.1\u001b[0m\" 405 -\n",
      "127.0.0.1 - - [07/Jul/2024 00:26:49] \"\u001b[31m\u001b[1mPOST /api HTTP/1.1\u001b[0m\" 405 -\n",
      "127.0.0.1 - - [07/Jul/2024 00:27:24] \"\u001b[31m\u001b[1mPOST /api HTTP/1.1\u001b[0m\" 405 -\n",
      "127.0.0.1 - - [07/Jul/2024 00:27:48] \"\u001b[31m\u001b[1mPOST /api HTTP/1.1\u001b[0m\" 405 -\n",
      "127.0.0.1 - - [07/Jul/2024 00:32:13] \"\u001b[31m\u001b[1mPOST /api HTTP/1.1\u001b[0m\" 405 -\n",
      "127.0.0.1 - - [07/Jul/2024 00:33:03] \"\u001b[31m\u001b[1mPOST /api HTTP/1.1\u001b[0m\" 405 -\n",
      "127.0.0.1 - - [07/Jul/2024 00:33:13] \"GET /api HTTP/1.1\" 200 -\n"
     ]
    },
    {
     "name": "stdout",
     "output_type": "stream",
     "text": [
      "{\"actions\": [{\"command\": \"move_to\", \"parameters\": {\"x\": 308, \"y\": 172, \"z\": -50}}, {\"command\": \"suction_cup\", \"parameters\": {\"action\": \"on\"}}, {\"command\": \"move_to\", \"parameters\": {\"x\": 284, \"y\": 266, \"z\": -50}}, {\"command\": \"move\", \"parameters\": {\"direction\": \"depan\"}}, {\"command\": \"suction_cup\", \"parameters\": {\"action\": \"off\"}}]}\n"
     ]
    },
    {
     "name": "stderr",
     "output_type": "stream",
     "text": [
      "127.0.0.1 - - [07/Jul/2024 00:33:47] \"\u001b[31m\u001b[1mGET /api HTTP/1.1\u001b[0m\" 400 -\n",
      "127.0.0.1 - - [07/Jul/2024 00:34:18] \"\u001b[31m\u001b[1mGET /api HTTP/1.1\u001b[0m\" 400 -\n",
      "127.0.0.1 - - [07/Jul/2024 00:35:11] \"\u001b[31m\u001b[1mGET /api HTTP/1.1\u001b[0m\" 400 -\n",
      "127.0.0.1 - - [07/Jul/2024 00:37:16] \"GET /api HTTP/1.1\" 200 -\n"
     ]
    },
    {
     "name": "stdout",
     "output_type": "stream",
     "text": [
      "{\"actions\": [{\"command\": \"move_to\", \"parameters\": {\"x\": -265.56, \"y\": 196.34, \"z\": -50}}]}\n"
     ]
    },
    {
     "name": "stderr",
     "output_type": "stream",
     "text": [
      "127.0.0.1 - - [07/Jul/2024 00:41:58] \"GET /api HTTP/1.1\" 200 -\n"
     ]
    },
    {
     "name": "stdout",
     "output_type": "stream",
     "text": [
      "{\"actions\": [{\"command\": \"move_to\", \"parameters\": {\"x\": 308, \"y\": 172, \"z\": -50}}, {\"command\": \"suction_cup\", \"parameters\": {\"action\": \"on\"}}, {\"command\": \"move_to\", \"parameters\": {\"x\": 284, \"y\": 266, \"z\": -50}}, {\"command\": \"move\", \"parameters\": {\"direction\": \"depan\"}}, {\"command\": \"suction_cup\", \"parameters\": {\"action\": \"off\"}}]}\n"
     ]
    },
    {
     "name": "stderr",
     "output_type": "stream",
     "text": [
      "127.0.0.1 - - [07/Jul/2024 00:48:03] \"GET /api HTTP/1.1\" 200 -\n"
     ]
    },
    {
     "name": "stdout",
     "output_type": "stream",
     "text": [
      "{\"actions\": [{\"command\": \"move\", \"parameters\": {\"direction\": \"pip\"}}]}\n"
     ]
    },
    {
     "name": "stderr",
     "output_type": "stream",
     "text": [
      "127.0.0.1 - - [07/Jul/2024 00:48:29] \"GET /api HTTP/1.1\" 200 -\n"
     ]
    },
    {
     "name": "stdout",
     "output_type": "stream",
     "text": [
      "{\"actions\": [{\"command\": \"move\", \"parameters\": {\"direction\": \"sw\"}}]}\n"
     ]
    },
    {
     "name": "stderr",
     "output_type": "stream",
     "text": [
      "t=2024-07-07T00:48:46+0700 lvl=warn msg=\"failed to check for update\" obj=updater err=\"Post \\\"https://update.equinox.io/check\\\": context deadline exceeded\"\n",
      "127.0.0.1 - - [07/Jul/2024 00:51:44] \"GET /api HTTP/1.1\" 200 -\n"
     ]
    },
    {
     "name": "stdout",
     "output_type": "stream",
     "text": [
      "{\"actions\": [{\"command\": \"move_to\", \"parameters\": {\"x\": 320, \"y\": 124, \"z\": -50}}]}\n"
     ]
    },
    {
     "name": "stderr",
     "output_type": "stream",
     "text": [
      "127.0.0.1 - - [07/Jul/2024 00:52:08] \"GET /api HTTP/1.1\" 200 -\n"
     ]
    },
    {
     "name": "stdout",
     "output_type": "stream",
     "text": [
      "{\"actions\": [{\"command\": \"err_msg\", \"parameters\": {\"msg\": \"tidak dapat membuat rencana aksi dengan kondisi terkini\"}}]}\n"
     ]
    },
    {
     "name": "stderr",
     "output_type": "stream",
     "text": [
      "127.0.0.1 - - [07/Jul/2024 00:52:45] \"GET /api HTTP/1.1\" 200 -\n"
     ]
    },
    {
     "name": "stdout",
     "output_type": "stream",
     "text": [
      "{\"actions\": [{\"command\": \"err_msg\", \"parameters\": {\"msg\": \"tidak dapat membuat rencana aksi dengan kondisi terkini\"}}]}\n"
     ]
    },
    {
     "name": "stderr",
     "output_type": "stream",
     "text": [
      "127.0.0.1 - - [07/Jul/2024 00:56:17] \"GET /api HTTP/1.1\" 200 -\n"
     ]
    },
    {
     "name": "stdout",
     "output_type": "stream",
     "text": [
      "{\"actions\": [{\"command\": \"suction_cup\", \"parameters\": {\"action\": \"on\"}}]}\n"
     ]
    },
    {
     "name": "stderr",
     "output_type": "stream",
     "text": [
      "127.0.0.1 - - [07/Jul/2024 01:10:25] \"GET /api HTTP/1.1\" 200 -\n"
     ]
    },
    {
     "name": "stdout",
     "output_type": "stream",
     "text": [
      "{\"actions\": [{\"command\": \"move_to\", \"parameters\": {\"x\": 238, \"y\": 92, \"z\": -50}}, {\"command\": \"suction_cup\", \"parameters\": {\"action\": \"on\"}}, {\"command\": \"move\", \"parameters\": {\"direction\": \"depan\"}}, {\"command\": \"suction_cup\", \"parameters\": {\"action\": \"off\"}}]}\n"
     ]
    },
    {
     "name": "stderr",
     "output_type": "stream",
     "text": [
      "127.0.0.1 - - [07/Jul/2024 01:13:01] \"GET /api HTTP/1.1\" 200 -\n"
     ]
    },
    {
     "name": "stdout",
     "output_type": "stream",
     "text": [
      "{\"actions\": [{\"command\": \"move_to\", \"parameters\": {\"x\": 238, \"y\": 90, \"z\": -50}}, {\"command\": \"suction_cup\", \"parameters\": {\"action\": \"on\"}}, {\"command\": \"move\", \"parameters\": {\"direction\": \"depan\"}}, {\"command\": \"suction_cup\", \"parameters\": {\"action\": \"off\"}}]}\n"
     ]
    },
    {
     "name": "stderr",
     "output_type": "stream",
     "text": [
      "127.0.0.1 - - [07/Jul/2024 01:13:43] \"GET /api HTTP/1.1\" 200 -\n"
     ]
    },
    {
     "name": "stdout",
     "output_type": "stream",
     "text": [
      "{\"actions\": [{\"command\": \"move_to\", \"parameters\": {\"x\": 238, \"y\": 92, \"z\": -50}}, {\"command\": \"suction_cup\", \"parameters\": {\"action\": \"on\"}}, {\"command\": \"move\", \"parameters\": {\"direction\": \"depan\"}}, {\"command\": \"suction_cup\", \"parameters\": {\"action\": \"off\"}}]}\n"
     ]
    },
    {
     "name": "stderr",
     "output_type": "stream",
     "text": [
      "127.0.0.1 - - [07/Jul/2024 01:14:49] \"\u001b[31m\u001b[1mGET /api HTTP/1.1\u001b[0m\" 400 -\n",
      "127.0.0.1 - - [07/Jul/2024 01:15:02] \"GET /api HTTP/1.1\" 200 -\n"
     ]
    },
    {
     "name": "stdout",
     "output_type": "stream",
     "text": [
      "{\"actions\": [{\"command\": \"move_to\", \"parameters\": {\"x\": 238, \"y\": 92, \"z\": -50}}, {\"command\": \"suction_cup\", \"parameters\": {\"action\": \"on\"}}, {\"command\": \"move\", \"parameters\": {\"direction\": \"depan\"}}, {\"command\": \"suction_cup\", \"parameters\": {\"action\": \"off\"}}]}\n"
     ]
    },
    {
     "name": "stderr",
     "output_type": "stream",
     "text": [
      "127.0.0.1 - - [07/Jul/2024 01:23:48] \"GET /api HTTP/1.1\" 200 -\n"
     ]
    },
    {
     "name": "stdout",
     "output_type": "stream",
     "text": [
      "{\"actions\": [{\"command\": \"move_to\", \"parameters\": {\"x\": 286.7, \"y\": 125, \"z\": -50}}, {\"command\": \"suction_cup\", \"parameters\": {\"action\": \"on\"}}, {\"command\": \"move\", \"parameters\": {\"direction\": \"belakang\"}}, {\"command\": \"suction_cup\", \"parameters\": {\"action\": \"off\"}}]}\n"
     ]
    },
    {
     "name": "stderr",
     "output_type": "stream",
     "text": [
      "127.0.0.1 - - [07/Jul/2024 01:25:08] \"GET /api HTTP/1.1\" 200 -\n"
     ]
    },
    {
     "name": "stdout",
     "output_type": "stream",
     "text": [
      "{\"actions\": [{\"command\": \"move_to\", \"parameters\": {\"x\": 235.32, \"y\": 72.7, \"z\": -50}}, {\"command\": \"suction_cup\", \"parameters\": {\"action\": \"on\"}}, {\"command\": \"move_to\", \"parameters\": {\"x\": 216.39, \"y\": -92.46, \"z\": -50}}, {\"command\": \"move\", \"parameters\": {\"direction\": \"depan\"}}, {\"command\": \"suction_cup\", \"parameters\": {\"action\": \"off\"}}]}\n"
     ]
    },
    {
     "name": "stderr",
     "output_type": "stream",
     "text": [
      "127.0.0.1 - - [07/Jul/2024 01:28:31] \"GET /api HTTP/1.1\" 200 -\n"
     ]
    },
    {
     "name": "stdout",
     "output_type": "stream",
     "text": [
      "{\"actions\": [{\"command\": \"move_to\", \"parameters\": {\"x\": 178.52, \"y\": -89.71, \"z\": -50}}, {\"command\": \"suction_cup\", \"parameters\": {\"action\": \"on\"}}, {\"command\": \"move\", \"parameters\": {\"direction\": \"depan\"}}, {\"command\": \"suction_cup\", \"parameters\": {\"action\": \"off\"}}]}\n"
     ]
    },
    {
     "name": "stderr",
     "output_type": "stream",
     "text": [
      "127.0.0.1 - - [07/Jul/2024 01:29:52] \"GET /api HTTP/1.1\" 200 -\n"
     ]
    },
    {
     "name": "stdout",
     "output_type": "stream",
     "text": [
      "{\"actions\": [{\"command\": \"move_to\", \"parameters\": {\"x\": 178.52, \"y\": -92.46, \"z\": -50}}, {\"command\": \"suction_cup\", \"parameters\": {\"action\": \"on\"}}, {\"command\": \"move_to\", \"parameters\": {\"x\": 210.98, \"y\": 100.23, \"z\": -50}}, {\"command\": \"move\", \"parameters\": {\"direction\": \"atas\"}}, {\"command\": \"suction_cup\", \"parameters\": {\"action\": \"off\"}}]}\n"
     ]
    },
    {
     "name": "stderr",
     "output_type": "stream",
     "text": [
      "127.0.0.1 - - [07/Jul/2024 01:31:17] \"GET /api HTTP/1.1\" 200 -\n"
     ]
    },
    {
     "name": "stdout",
     "output_type": "stream",
     "text": [
      "{\"actions\": [{\"command\": \"move_to\", \"parameters\": {\"x\": 273.18, \"y\": -97.97, \"z\": -50}}, {\"command\": \"suction_cup\", \"parameters\": {\"action\": \"on\"}}, {\"command\": \"move_to\", \"parameters\": {\"x\": 181.23, \"y\": -70.44, \"z\": -50}}, {\"command\": \"move\", \"parameters\": {\"direction\": \"atas\"}}, {\"command\": \"suction_cup\", \"parameters\": {\"action\": \"off\"}}]}\n"
     ]
    },
    {
     "name": "stderr",
     "output_type": "stream",
     "text": [
      "127.0.0.1 - - [07/Jul/2024 01:32:16] \"GET /api HTTP/1.1\" 200 -\n"
     ]
    },
    {
     "name": "stdout",
     "output_type": "stream",
     "text": [
      "{\"actions\": [{\"command\": \"move_to\", \"parameters\": {\"x\": 275.89, \"y\": -122.74, \"z\": -50}}, {\"command\": \"suction_cup\", \"parameters\": {\"action\": \"on\"}}, {\"command\": \"move_to\", \"parameters\": {\"x\": 227.2, \"y\": -103.47, \"z\": -50}}, {\"command\": \"move\", \"parameters\": {\"direction\": \"belakang\"}}, {\"command\": \"suction_cup\", \"parameters\": {\"action\": \"off\"}}]}\n"
     ]
    },
    {
     "name": "stderr",
     "output_type": "stream",
     "text": [
      "127.0.0.1 - - [07/Jul/2024 01:33:22] \"GET /api HTTP/1.1\" 200 -\n"
     ]
    },
    {
     "name": "stdout",
     "output_type": "stream",
     "text": [
      "{\"actions\": [{\"command\": \"move_to\", \"parameters\": {\"x\": 238.02, \"y\": -117.24, \"z\": -50}}, {\"command\": \"suction_cup\", \"parameters\": {\"action\": \"on\"}}, {\"command\": \"move\", \"parameters\": {\"direction\": \"kiri\"}}, {\"command\": \"suction_cup\", \"parameters\": {\"action\": \"off\"}}]}\n"
     ]
    },
    {
     "name": "stderr",
     "output_type": "stream",
     "text": [
      "127.0.0.1 - - [07/Jul/2024 01:35:20] \"GET /api HTTP/1.1\" 200 -\n"
     ]
    },
    {
     "name": "stdout",
     "output_type": "stream",
     "text": [
      "{\"actions\": [{\"command\": \"move_to\", \"parameters\": {\"x\": -78.41, \"y\": -150.27, \"z\": -50}}, {\"command\": \"suction_cup\", \"parameters\": {\"action\": \"on\"}}, {\"command\": \"move_to\", \"parameters\": {\"x\": 189.34, \"y\": -111.73, \"z\": -50}}, {\"command\": \"move\", \"parameters\": {\"direction\": \"depan\"}}, {\"command\": \"suction_cup\", \"parameters\": {\"action\": \"off\"}}]}\n"
     ]
    },
    {
     "name": "stderr",
     "output_type": "stream",
     "text": [
      "127.0.0.1 - - [07/Jul/2024 01:37:47] \"GET /api HTTP/1.1\" 200 -\n"
     ]
    },
    {
     "name": "stdout",
     "output_type": "stream",
     "text": [
      "{\"actions\": [{\"command\": \"move_to\", \"parameters\": {\"x\": 180.87, \"y\": 105.52, \"z\": -50}}, {\"command\": \"suction_cup\", \"parameters\": {\"action\": \"on\"}}, {\"command\": \"move_to\", \"parameters\": {\"x\": 186.16, \"y\": -114.3, \"z\": -50}}, {\"command\": \"move\", \"parameters\": {\"direction\": \"depan\"}}, {\"command\": \"suction_cup\", \"parameters\": {\"action\": \"off\"}}]}\n"
     ]
    },
    {
     "name": "stderr",
     "output_type": "stream",
     "text": [
      "127.0.0.1 - - [07/Jul/2024 01:38:48] \"GET /api HTTP/1.1\" 200 -\n"
     ]
    },
    {
     "name": "stdout",
     "output_type": "stream",
     "text": [
      "{\"actions\": [{\"command\": \"move_to\", \"parameters\": {\"x\": 178.22, \"y\": 97.17, \"z\": -50}}, {\"command\": \"suction_cup\", \"parameters\": {\"action\": \"on\"}}, {\"command\": \"move_to\", \"parameters\": {\"x\": 186.16, \"y\": -114.3, \"z\": -50}}, {\"command\": \"move\", \"parameters\": {\"direction\": \"depan\"}}, {\"command\": \"suction_cup\", \"parameters\": {\"action\": \"off\"}}]}\n"
     ]
    },
    {
     "name": "stderr",
     "output_type": "stream",
     "text": [
      "127.0.0.1 - - [07/Jul/2024 01:44:20] \"GET /api HTTP/1.1\" 200 -\n"
     ]
    },
    {
     "name": "stdout",
     "output_type": "stream",
     "text": [
      "{\"actions\": [{\"command\": \"move_to\", \"parameters\": {\"x\": 191.44, \"y\": -103.17, \"z\": -50}}, {\"command\": \"suction_cup\", \"parameters\": {\"action\": \"on\"}}, {\"command\": \"move_to\", \"parameters\": {\"x\": 281.36, \"y\": 80.48, \"z\": -50}}, {\"command\": \"move\", \"parameters\": {\"direction\": \"kanan\"}}, {\"command\": \"suction_cup\", \"parameters\": {\"action\": \"off\"}}]}\n"
     ]
    },
    {
     "name": "stderr",
     "output_type": "stream",
     "text": [
      "127.0.0.1 - - [07/Jul/2024 01:50:33] \"GET /api HTTP/1.1\" 200 -\n"
     ]
    },
    {
     "name": "stdout",
     "output_type": "stream",
     "text": [
      "{\"actions\": [{\"command\": \"move_to\", \"parameters\": {\"x\": 270.78, \"y\": 108.3, \"z\": -50}}, {\"command\": \"suction_cup\", \"parameters\": {\"action\": \"on\"}}, {\"command\": \"move_to\", \"parameters\": {\"x\": 186.16, \"y\": -103.17, \"z\": -50}}, {\"command\": \"move\", \"parameters\": {\"direction\": \"depan\"}}, {\"command\": \"suction_cup\", \"parameters\": {\"action\": \"off\"}}]}\n"
     ]
    },
    {
     "name": "stderr",
     "output_type": "stream",
     "text": [
      "127.0.0.1 - - [07/Jul/2024 01:51:26] \"GET /api HTTP/1.1\" 200 -\n"
     ]
    },
    {
     "name": "stdout",
     "output_type": "stream",
     "text": [
      "{\"actions\": [{\"command\": \"move_to\", \"parameters\": {\"x\": 186.16, \"y\": 108.3, \"z\": -50}}, {\"command\": \"suction_cup\", \"parameters\": {\"action\": \"on\"}}, {\"command\": \"move_to\", \"parameters\": {\"x\": 239.04, \"y\": -108.74, \"z\": -50}}, {\"command\": \"move\", \"parameters\": {\"direction\": \"atas\"}}, {\"command\": \"suction_cup\", \"parameters\": {\"action\": \"off\"}}]}\n"
     ]
    },
    {
     "name": "stderr",
     "output_type": "stream",
     "text": [
      "127.0.0.1 - - [07/Jul/2024 01:52:17] \"GET /api HTTP/1.1\" 200 -\n"
     ]
    },
    {
     "name": "stdout",
     "output_type": "stream",
     "text": [
      "{\"actions\": [{\"command\": \"move_to\", \"parameters\": {\"x\": 202.02, \"y\": -67, \"z\": -50}}, {\"command\": \"suction_cup\", \"parameters\": {\"action\": \"on\"}}, {\"command\": \"move\", \"parameters\": {\"direction\": \"depan\"}}, {\"command\": \"suction_cup\", \"parameters\": {\"action\": \"off\"}}]}\n"
     ]
    },
    {
     "name": "stderr",
     "output_type": "stream",
     "text": [
      "127.0.0.1 - - [07/Jul/2024 01:53:15] \"GET /api HTTP/1.1\" 200 -\n"
     ]
    },
    {
     "name": "stdout",
     "output_type": "stream",
     "text": [
      "{\"actions\": [{\"command\": \"move_to\", \"parameters\": {\"x\": 191.44, \"y\": 113.87, \"z\": -50}}, {\"command\": \"suction_cup\", \"parameters\": {\"action\": \"on\"}}, {\"command\": \"move_to\", \"parameters\": {\"x\": 278.71, \"y\": -111.52, \"z\": -50}}, {\"command\": \"move\", \"parameters\": {\"direction\": \"belakang\"}}, {\"command\": \"suction_cup\", \"parameters\": {\"action\": \"off\"}}]}\n"
     ]
    },
    {
     "name": "stderr",
     "output_type": "stream",
     "text": [
      "127.0.0.1 - - [07/Jul/2024 01:54:00] \"GET /api HTTP/1.1\" 200 -\n"
     ]
    },
    {
     "name": "stdout",
     "output_type": "stream",
     "text": [
      "{\"actions\": [{\"command\": \"move_to\", \"parameters\": {\"x\": 188.8, \"y\": -39.17, \"z\": -50}}, {\"command\": \"suction_cup\", \"parameters\": {\"action\": \"on\"}}, {\"command\": \"move_to\", \"parameters\": {\"x\": 278.71, \"y\": -111.52, \"z\": -50}}, {\"command\": \"move\", \"parameters\": {\"direction\": \"belakang\"}}, {\"command\": \"suction_cup\", \"parameters\": {\"action\": \"off\"}}]}\n"
     ]
    },
    {
     "name": "stderr",
     "output_type": "stream",
     "text": [
      "127.0.0.1 - - [07/Jul/2024 01:54:24] \"GET /api HTTP/1.1\" 200 -\n"
     ]
    },
    {
     "name": "stdout",
     "output_type": "stream",
     "text": [
      "{\"actions\": [{\"command\": \"err_msg\", \"parameters\": {\"msg\": \"tidak dapat membuat rencana aksi dengan kondisi terkini\"}}]}\n"
     ]
    },
    {
     "name": "stderr",
     "output_type": "stream",
     "text": [
      "127.0.0.1 - - [07/Jul/2024 01:55:13] \"GET /api HTTP/1.1\" 200 -\n"
     ]
    },
    {
     "name": "stdout",
     "output_type": "stream",
     "text": [
      "{\"actions\": [{\"command\": \"err_msg\", \"parameters\": {\"msg\": \"tidak dapat membuat rencana aksi dengan kondisi terkini\"}}]}\n"
     ]
    },
    {
     "name": "stderr",
     "output_type": "stream",
     "text": [
      "127.0.0.1 - - [07/Jul/2024 01:55:36] \"GET /api HTTP/1.1\" 200 -\n"
     ]
    },
    {
     "name": "stdout",
     "output_type": "stream",
     "text": [
      "{\"actions\": [{\"command\": \"move_to\", \"parameters\": {\"x\": -147.04, \"y\": -353.61, \"z\": -50}}, {\"command\": \"suction_cup\", \"parameters\": {\"action\": \"on\"}}, {\"command\": \"move_to\", \"parameters\": {\"x\": 191.44, \"y\": -39.17, \"z\": -50}}, {\"command\": \"move\", \"parameters\": {\"direction\": \"belakang\"}}, {\"command\": \"suction_cup\", \"parameters\": {\"action\": \"off\"}}]}\n"
     ]
    },
    {
     "name": "stderr",
     "output_type": "stream",
     "text": [
      "127.0.0.1 - - [07/Jul/2024 01:56:18] \"GET /api HTTP/1.1\" 200 -\n"
     ]
    },
    {
     "name": "stdout",
     "output_type": "stream",
     "text": [
      "{\"actions\": [{\"command\": \"err_msg\", \"parameters\": {\"msg\": \"tidak dapat membuat rencana aksi dengan kondisi terkini\"}}]}\n"
     ]
    },
    {
     "name": "stderr",
     "output_type": "stream",
     "text": [
      "127.0.0.1 - - [07/Jul/2024 01:57:10] \"GET /api HTTP/1.1\" 200 -\n"
     ]
    },
    {
     "name": "stdout",
     "output_type": "stream",
     "text": [
      "{\"actions\": [{\"command\": \"move_to\", \"parameters\": {\"x\": 199.38, \"y\": 111.09, \"z\": -50}}, {\"command\": \"suction_cup\", \"parameters\": {\"action\": \"on\"}}, {\"command\": \"move_to\", \"parameters\": {\"x\": -147.04, \"y\": 253, \"z\": -50}}, {\"command\": \"move\", \"parameters\": {\"direction\": \"depan\"}}, {\"command\": \"suction_cup\", \"parameters\": {\"action\": \"off\"}}]}\n"
     ]
    }
   ],
   "source": [
    "import getpass\n",
    "import os\n",
    "import threading\n",
    "\n",
    "from flask import Flask, request, jsonify\n",
    "from pyngrok import ngrok, conf\n",
    "\n",
    "conf.get_default().auth_token = \"XXXX\"\n",
    "\n",
    "app = Flask(__name__)\n",
    "\n",
    "# Open a ngrok tunnel to the HTTP server\n",
    "public_url = ngrok.connect(5000).public_url\n",
    "print(\" * ngrok tunnel \\\"{}\\\" -> \\\"http://127.0.0.1:{}/\\\"\".format(public_url, 5000))\n",
    "\n",
    "# Update any base URLs to use the public ngrok URL\n",
    "app.config[\"BASE_URL\"] = public_url\n",
    "# Define Flask routes\n",
    "@app.route(\"/\")\n",
    "def index():\n",
    "    return \"Hello from Jupyter DGX-A-100\"\n",
    "\n",
    "@app.route('/api')\n",
    "def api():\n",
    "    data = request.json\n",
    "    input_context = data.get('input_context', None)\n",
    "    object_context = data.get('object_context', None)\n",
    "    \n",
    "    if input_context and object_context:\n",
    "        output_data = inferrence(input_context, object_context)\n",
    "        return jsonify(output_data)\n",
    "    elif input_context is None and object_context is None:\n",
    "        return jsonify({\"status\": \"failure\", \"message\": \"input_context and object_context are missing\"}), 400\n",
    "    else:\n",
    "        return jsonify({\"status\": \"failure\", \"message\": \"input_context or object_context is missing\"}), 400\n",
    "\n",
    "\n",
    "# Start the Flask server in a new thread\n",
    "threading.Thread(target=app.run, kwargs={\"use_reloader\": False}).start()"
   ]
  },
  {
   "cell_type": "code",
   "execution_count": null,
   "id": "8febf523-a415-4a6c-a605-d8d50cc6bf3c",
   "metadata": {},
   "outputs": [],
   "source": []
  }
 ],
 "metadata": {
  "kernelspec": {
   "display_name": "my-env",
   "language": "python",
   "name": "my-env"
  },
  "language_info": {
   "codemirror_mode": {
    "name": "ipython",
    "version": 3
   },
   "file_extension": ".py",
   "mimetype": "text/x-python",
   "name": "python",
   "nbconvert_exporter": "python",
   "pygments_lexer": "ipython3",
   "version": "3.10.12"
  }
 },
 "nbformat": 4,
 "nbformat_minor": 5
}
